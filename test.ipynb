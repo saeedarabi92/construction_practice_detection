{
 "cells": [
  {
   "cell_type": "code",
   "execution_count": 1,
   "metadata": {},
   "outputs": [
    {
     "name": "stdout",
     "output_type": "stream",
     "text": [
      "total 24\r\n",
      "-rw-r--r--   1 saeedarabi  staff  1956 May 16 14:55 README.md\r\n",
      "-rw-r--r--   1 saeedarabi  staff    72 May 21 14:40 Untitled.ipynb\r\n",
      "drwxr-xr-x   3 saeedarabi  staff    96 May  2 18:03 \u001b[1m\u001b[36m__pycache__\u001b[m\u001b[m/\r\n",
      "-rw-r--r--@  1 saeedarabi  staff   829 May  2 19:09 image_slicer_script.py\r\n",
      "drwxr-xr-x   7 saeedarabi  staff   224 May 21 12:54 \u001b[1m\u001b[36mimages\u001b[m\u001b[m/\r\n",
      "drwxr-xr-x  16 saeedarabi  staff   512 May 16 11:49 \u001b[1m\u001b[36mmodels\u001b[m\u001b[m/\r\n",
      "drwxr-xr-x   3 saeedarabi  staff    96 May  2 19:04 \u001b[1m\u001b[36mtile_images\u001b[m\u001b[m/\r\n"
     ]
    }
   ],
   "source": [
    "ll"
   ]
  },
  {
   "cell_type": "code",
   "execution_count": 9,
   "metadata": {
    "collapsed": true
   },
   "outputs": [
    {
     "name": "stdout",
     "output_type": "stream",
     "text": [
      "['DJI_0495_01_04.png', 'DJI_0604_01_02.png', 'DJI_0457_01_03.png', 'DJI_0616_01_01.png', 'DJI_0616_01_01.png', 'DJI_0478_02_01.png', 'DJI_0482_03_01.png', 'DJI_0429_03_04.png', 'DJI_0395_01_04.png', 'DJI_0494_01_01.png', 'DJI_0537_03_03.png', 'DJI_0483_03_04.png', 'DJI_0479_02_04.png', 'DJI_0387_02_01.png', 'DJI_0422_01_01.png', 'DJI_0422_01_01.png', 'DJI_0406_02_01.png', 'DJI_0543_03_04.png', 'DJI_0513_01_02.png', 'DJI_0440_01_01.png', 'DJI_0440_01_01.png', 'DJI_0516_03_04.png', 'DJI_0477_01_01.png', 'DJI_0477_01_01.png', 'DJI_0513_02_04.png', 'DJI_0389_02_02.png', 'DJI_0426_03_02.png', 'DJI_0426_03_02.png', 'DJI_0476_01_04.png', 'DJI_0444_03_02.png', 'DJI_0441_01_04.png', 'DJI_0441_01_04.png', 'DJI_0441_01_04.png', 'DJI_0443_02_04.png', 'DJI_0443_02_04.png', 'DJI_0462_03_02.png', 'DJI_0511_01_04.png', 'DJI_0484_03_03.png', 'DJI_0442_02_01.png', 'DJI_0511_02_02.png', 'DJI_0610_01_03.png', 'DJI_0404_01_01.png', 'DJI_0534_02_01.png', 'DJI_0609_01_02.png', 'DJI_0397_02_04.png', 'DJI_0541_02_03.png', 'DJI_0384_01_04.png', 'DJI_0498_03_03.png', 'DJI_0528_02_01.png', 'DJI_0497_02_04.png', 'DJI_0481_03_02.png', 'DJI_0416_03_04.png', 'DJI_0413_01_02.png', 'DJI_0421_03_04.png', 'DJI_0447_02_01.png', 'DJI_0447_02_01.png', 'DJI_0514_02_02.png', 'DJI_0535_03_04.png', 'DJI_0530_01_02.png', 'DJI_0462_02_02.png', 'DJI_0443_03_04.png', 'DJI_0443_03_04.png', 'DJI_0498_03_02.png', 'DJI_0425_02_01.png', 'DJI_0425_02_01.png', 'DJI_0401_01_01.png', 'DJI_0573_03_02.png', 'DJI_0534_03_01.png', 'DJI_0609_01_03.png', 'DJI_0421_01_03.png', 'DJI_0421_01_03.png', 'DJI_0610_01_02.png', 'DJI_0528_03_01.png', 'DJI_0393_02_01.png', 'DJI_0614_03_01.png', 'DJI_0462_03_03.png', 'DJI_0444_03_03.png', 'DJI_0444_03_03.png', 'DJI_0411_03_03.png', 'DJI_0391_01_01.png', 'DJI_0391_01_01.png', 'DJI_0426_03_03.png', 'DJI_0458_01_04.png', 'DJI_0568_01_02.png', 'DJI_0414_02_03.png', 'DJI_0519_02_02.png', 'DJI_0459_01_01.png', 'DJI_0460_02_04.png', 'DJI_0538_01_03.png', 'DJI_0457_01_02.png', 'DJI_0465_03_04.png', 'DJI_0461_02_01.png', 'DJI_0443_02_02.png', 'DJI_0462_03_04.png', 'DJI_0609_02_02.png', 'DJI_0398_02_04.png', 'DJI_0416_02_02.png', 'DJI_0400_03_04.png', 'DJI_0442_01_01.png', 'DJI_0421_01_04.png', 'DJI_0540_03_01.png', 'DJI_0424_02_03.png', 'DJI_0606_01_02.png', 'DJI_0606_01_02.png', 'DJI_0480_03_01.png', 'DJI_0614_01_01.png', 'DJI_0448_03_01.png', 'DJI_0529_01_04.png', 'DJI_0481_03_04.png', 'DJI_0497_02_02.png', 'DJI_0416_03_03.png', 'DJI_0579_03_02.png', 'DJI_0430_03_03.png', 'DJI_0430_03_03.png', 'DJI_0495_01_02.png', 'DJI_0538_01_04.png', 'DJI_0429_03_02.png', 'DJI_0386_01_04.png', 'DJI_0478_01_01.png', 'DJI_0478_01_01.png', 'DJI_0460_02_03.png', 'DJI_0479_02_02.png', 'DJI_0441_02_04.png', 'DJI_0441_02_04.png', 'DJI_0414_02_04.png', 'DJI_0402_03_02.png', 'DJI_0513_01_04.png', 'DJI_0516_03_02.png', 'DJI_0458_01_03.png', 'DJI_0411_03_04.png', 'DJI_0411_03_04.png', 'DJI_0414_01_02.png', 'DJI_0423_01_02.png', 'DJI_0423_01_02.png', 'DJI_0423_01_02.png', 'DJI_0389_02_04.png', 'DJI_0571_02_02.png', 'DJI_0406_01_01.png', 'DJI_0476_01_02.png', 'DJI_0465_02_02.png', 'DJI_0501_02_01.png', 'DJI_0444_03_04.png', 'DJI_0444_03_04.png', 'DJI_0441_01_02.png', 'DJI_0476_01_03.png', 'DJI_0441_01_03.png', 'DJI_0441_01_03.png', 'DJI_0613_02_01.png', 'DJI_0429_02_02.png', 'DJI_0429_02_02.png', 'DJI_0423_01_03.png', 'DJI_0458_01_02.png', 'DJI_0483_02_02.png', 'DJI_0409_03_01.png', 'DJI_0390_01_02.png', 'DJI_0543_03_03.png', 'DJI_0402_02_02.png', 'DJI_0483_03_03.png', 'DJI_0537_03_04.png', 'DJI_0533_02_01.png', 'DJI_0460_02_02.png', 'DJI_0429_03_03.png', 'DJI_0429_03_03.png', 'DJI_0457_01_04.png', 'DJI_0536_03_01.png', 'DJI_0465_03_02.png', 'DJI_0532_02_04.png', 'DJI_0495_01_03.png', 'DJI_0495_01_03.png', 'DJI_0430_03_02.png', 'DJI_0430_03_02.png', 'DJI_0389_03_04.png', 'DJI_0416_03_02.png', 'DJI_0398_03_04.png', 'DJI_0572_03_01.png', 'DJI_0502_03_02.png', 'DJI_0514_02_04.png', 'DJI_0466_03_01.png', 'DJI_0497_02_03.png', 'DJI_0530_01_04.png', 'DJI_0609_03_02.png', 'DJI_0498_03_04.png', 'DJI_0541_02_04.png', 'DJI_0531_01_01.png', 'DJI_0424_02_02.png', 'DJI_0424_02_02.png', 'DJI_0424_02_02.png', 'DJI_0480_02_01.png', 'DJI_0611_01_01.png', 'DJI_0443_02_03.png', 'DJI_0443_02_03.png', 'DJI_0572_03_02.png', 'DJI_0540_01_04.png', 'DJI_0535_03_01.png', 'DJI_0466_03_02.png', 'DJI_0502_03_01.png', 'DJI_0412_01_02.png', 'DJI_0420_03_04.png', 'DJI_0515_02_02.png', 'DJI_0534_03_04.png', 'DJI_0499_03_02.png', 'DJI_0424_02_01.png', 'DJI_0424_02_01.png', 'DJI_0529_03_01.png', 'DJI_0392_02_01.png', 'DJI_0418_03_02.png', 'DJI_0615_03_01.png', 'DJI_0463_03_03.png', 'DJI_0429_02_01.png', 'DJI_0569_01_02.png', 'DJI_0580_03_02.png', 'DJI_0568_02_01.png', 'DJI_0458_01_01.png', 'DJI_0445_03_03.png', 'DJI_0390_01_01.png', 'DJI_0459_01_04.png', 'DJI_0539_01_03.png', 'DJI_0580_02_03.png', 'DJI_0461_02_04.png', 'DJI_0542_02_04.png', 'DJI_0430_03_01.png', 'DJI_0387_01_02.png', 'DJI_0495_01_01.png', 'DJI_0478_02_04.png', 'DJI_0494_01_04.png', 'DJI_0605_01_02.png', 'DJI_0479_02_01.png', 'DJI_0387_02_04.png', 'DJI_0543_03_01.png', 'DJI_0422_01_04.png', 'DJI_0388_02_02.png', 'DJI_0477_01_04.png', 'DJI_0440_01_04.png', 'DJI_0440_01_04.png', 'DJI_0440_01_04.png', 'DJI_0445_03_02.png', 'DJI_0461_03_04.png', 'DJI_0423_01_01.png', 'DJI_0542_03_04.png', 'DJI_0407_02_01.png', 'DJI_0415_02_02.png', 'DJI_0517_03_04.png', 'DJI_0512_01_02.png', 'DJI_0441_01_01.png', 'DJI_0501_02_02.png', 'DJI_0465_02_01.png', 'DJI_0476_01_01.png', 'DJI_0476_01_01.png', 'DJI_0443_02_01.png', 'DJI_0412_03_04.png', 'DJI_0412_03_04.png', 'DJI_0439_01_03.png', 'DJI_0405_01_01.png', 'DJI_0405_01_01.png', 'DJI_0447_03_04.png', 'DJI_0608_01_02.png', 'DJI_0442_02_04.png', 'DJI_0442_02_04.png', 'DJI_0442_02_04.png', 'DJI_0463_03_02.png', 'DJI_0399_02_02.png', 'DJI_0493_01_03.png', 'DJI_0493_01_03.png', 'DJI_0577_02_03.png', 'DJI_0385_01_04.png', 'DJI_0540_02_03.png', 'DJI_0499_03_03.png', 'DJI_0607_02_02.png', 'DJI_0480_03_02.png', 'DJI_0496_02_04.png', 'DJI_0448_03_02.png', 'DJI_0610_03_01.png', 'DJI_0459_02_04.png', 'DJI_0408_03_01.png', 'DJI_0542_03_03.png', 'DJI_0391_01_02.png', 'DJI_0477_01_03.png', 'DJI_0440_01_03.png', 'DJI_0612_02_01.png', 'DJI_0422_01_03.png', 'DJI_0422_01_03.png', 'DJI_0459_01_02.png', 'DJI_0456_01_04.png', 'DJI_0464_03_02.png', 'DJI_0533_02_04.png', 'DJI_0494_01_03.png', 'DJI_0494_01_03.png', 'DJI_0460_01_01.png', 'DJI_0478_02_03.png', 'DJI_0501_03_04.png', 'DJI_0532_02_01.png', 'DJI_0461_02_02.png', 'DJI_0426_02_01.png', 'DJI_0424_01_01.png', 'DJI_0530_01_01.png', 'DJI_0530_01_01.png', 'DJI_0447_02_02.png', 'DJI_0541_02_01.png', 'DJI_0425_02_02.png', 'DJI_0425_02_02.png', 'DJI_0417_03_02.png', 'DJI_0573_03_01.png', 'DJI_0399_03_04.png', 'DJI_0515_02_04.png', 'DJI_0496_02_03.png', 'DJI_0531_01_04.png', 'DJI_0499_03_04.png', 'DJI_0540_02_04.png', 'DJI_0493_01_04.png', 'DJI_0578_02_02.png', 'DJI_0442_02_03.png', 'DJI_0442_02_03.png', 'DJI_0484_03_01.png', 'DJI_0447_03_03.png', 'DJI_0439_01_04.png', 'DJI_0439_01_04.png', 'DJI_0439_01_04.png', 'DJI_0412_03_03.png', 'DJI_0447_03_02.png', 'DJI_0475_01_04.png', 'DJI_0442_02_02.png', 'DJI_0608_02_02.png', 'DJI_0463_03_04.png', 'DJI_0404_01_02.png', 'DJI_0496_02_02.png', 'DJI_0480_03_04.png', 'DJI_0425_02_03.png', 'DJI_0607_01_02.png', 'DJI_0481_03_01.png', 'DJI_0615_01_01.png', 'DJI_0615_01_01.png', 'DJI_0577_01_03.png', 'DJI_0396_01_04.png', 'DJI_0540_01_03.png', 'DJI_0542_02_03.png', 'DJI_0461_02_03.png', 'DJI_0482_03_02.png', 'DJI_0539_01_04.png', 'DJI_0387_02_02.png', 'DJI_0459_01_03.png', 'DJI_0388_02_04.png', 'DJI_0422_01_02.png', 'DJI_0422_01_02.png', 'DJI_0422_01_02.png', 'DJI_0570_02_02.png', 'DJI_0440_01_02.png', 'DJI_0426_03_01.png', 'DJI_0426_03_01.png', 'DJI_0403_03_02.png', 'DJI_0444_03_01.png', 'DJI_0517_03_02.png', 'DJI_0512_01_04.png', 'DJI_0520_03_02.png']\n"
     ]
    }
   ],
   "source": [
    "import csv\n",
    "\n",
    "with open('images/test_labels.csv', mode='r') as csv_file:\n",
    "    csv_reader = csv.reader(csv_file)\n",
    "    image_name_list = []\n",
    "    line_count = 0\n",
    "    for row in csv_reader:\n",
    "        if not line_count == 0:\n",
    "            image_name_list.append(row[0])\n",
    "        line_count += 1\n",
    "        \n",
    "    print((image_name_list))"
   ]
  },
  {
   "cell_type": "code",
   "execution_count": null,
   "metadata": {},
   "outputs": [],
   "source": [
    "from shutil import copyfile\n",
    "\n",
    "copyfile(src, dst)"
   ]
  }
 ],
 "metadata": {
  "kernelspec": {
   "display_name": "Python 3",
   "language": "python",
   "name": "python3"
  },
  "language_info": {
   "codemirror_mode": {
    "name": "ipython",
    "version": 3
   },
   "file_extension": ".py",
   "mimetype": "text/x-python",
   "name": "python",
   "nbconvert_exporter": "python",
   "pygments_lexer": "ipython3",
   "version": "3.7.3"
  }
 },
 "nbformat": 4,
 "nbformat_minor": 2
}
